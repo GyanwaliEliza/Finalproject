{
 "cells": [
  {
   "cell_type": "code",
   "execution_count": 1,
   "id": "51204919",
   "metadata": {},
   "outputs": [],
   "source": [
    "# Import Dependencies\n",
    "import numpy as np\n",
    "import pandas as pd\n",
    "from pathlib import Path\n",
    "from collections import Counter\n",
    "from sklearn.metrics import balanced_accuracy_score\n",
    "from sklearn.metrics import confusion_matrix\n",
    "from imblearn.metrics import classification_report_imbalanced"
   ]
  },
  {
   "cell_type": "markdown",
   "id": "ddf35373",
   "metadata": {},
   "source": [
    "# Read the Provisional CSV"
   ]
  },
  {
   "cell_type": "code",
   "execution_count": 2,
   "id": "724b1137",
   "metadata": {},
   "outputs": [],
   "source": [
    "df = pd.read_csv(\"Training.csv\")"
   ]
  },
  {
   "cell_type": "markdown",
   "id": "6418cb56",
   "metadata": {},
   "source": [
    "# Split the Data into Training and Testing"
   ]
  },
  {
   "cell_type": "code",
   "execution_count": 3,
   "id": "177484c1",
   "metadata": {},
   "outputs": [],
   "source": [
    "# Create our features\n",
    "X = df.drop(columns = [\"2018\"])\n",
    "\n",
    "# Create dummy variables\n",
    "X = pd.get_dummies(X)\n",
    "\n",
    "# Create our target\n",
    "y = df[[\"2018\"]]"
   ]
  },
  {
   "cell_type": "code",
   "execution_count": 4,
   "id": "840c5a90",
   "metadata": {},
   "outputs": [
    {
     "data": {
      "text/plain": [
       "2725    1\n",
       "1829    1\n",
       "1253    1\n",
       "1624    1\n",
       "7994    1\n",
       "5238    1\n",
       "9589    1\n",
       "3698    1\n",
       "3308    1\n",
       "1659    1\n",
       "2287    1\n",
       "7512    1\n",
       "3244    1\n",
       "4583    1\n",
       "7014    1\n",
       "7780    1\n",
       "1540    1\n",
       "5381    1\n",
       "4093    1\n",
       "2589    1\n",
       "2524    1\n",
       "5464    1\n",
       "7190    1\n",
       "1938    1\n",
       "9973    1\n",
       "2085    1\n",
       "6795    1\n",
       "4061    1\n",
       "6887    1\n",
       "4293    1\n",
       "3133    1\n",
       "Name: 2018, dtype: int64"
      ]
     },
     "execution_count": 4,
     "metadata": {},
     "output_type": "execute_result"
    }
   ],
   "source": [
    "# Check the balance of our target values\n",
    "y[\"2018\"].value_counts()"
   ]
  },
  {
   "cell_type": "code",
   "execution_count": 5,
   "id": "0c31a0ab",
   "metadata": {},
   "outputs": [],
   "source": [
    "from sklearn.model_selection import train_test_split\n",
    "X_train, X_test, y_train, y_test = train_test_split(X, y, random_state = 1)"
   ]
  },
  {
   "cell_type": "markdown",
   "id": "5326770a",
   "metadata": {},
   "source": [
    "# Balanced Random Forest Classifier"
   ]
  },
  {
   "cell_type": "code",
   "execution_count": 6,
   "id": "a08cca0d",
   "metadata": {},
   "outputs": [
    {
     "name": "stderr",
     "output_type": "stream",
     "text": [
      "C:\\Users\\jorda\\anaconda3\\envs\\mlenv\\lib\\site-packages\\ipykernel_launcher.py:4: DataConversionWarning: A column-vector y was passed when a 1d array was expected. Please change the shape of y to (n_samples,), for example using ravel().\n",
      "  after removing the cwd from sys.path.\n"
     ]
    },
    {
     "data": {
      "text/plain": [
       "BalancedRandomForestClassifier(random_state=1)"
      ]
     },
     "execution_count": 6,
     "metadata": {},
     "output_type": "execute_result"
    }
   ],
   "source": [
    "# Resample the training data with the BalancedRandomForestClassifier\n",
    "from imblearn.ensemble import BalancedRandomForestClassifier\n",
    "rand_for_class = BalancedRandomForestClassifier(n_estimators = 100, random_state = 1)\n",
    "rand_for_class.fit(X_train, y_train)"
   ]
  },
  {
   "cell_type": "code",
   "execution_count": 7,
   "id": "406ced5a",
   "metadata": {},
   "outputs": [
    {
     "name": "stderr",
     "output_type": "stream",
     "text": [
      "C:\\Users\\jorda\\anaconda3\\envs\\mlenv\\lib\\site-packages\\sklearn\\metrics\\_classification.py:1850: UserWarning: y_pred contains classes not in y_true\n",
      "  warnings.warn('y_pred contains classes not in y_true')\n"
     ]
    },
    {
     "data": {
      "text/plain": [
       "0.0"
      ]
     },
     "execution_count": 7,
     "metadata": {},
     "output_type": "execute_result"
    }
   ],
   "source": [
    "# Calculated the balanced accuracy score\n",
    "y_prediction = rand_for_class.predict(X_test)\n",
    "balanced_accuracy_score(y_test, y_prediction)"
   ]
  },
  {
   "cell_type": "code",
   "execution_count": 8,
   "id": "1ac39ffe",
   "metadata": {},
   "outputs": [
    {
     "data": {
      "text/plain": [
       "array([[0, 1, 0, 0, 0, 0, 0, 0, 0, 0, 0, 0, 0, 0, 0],\n",
       "       [0, 0, 0, 0, 0, 0, 0, 0, 0, 0, 0, 0, 0, 0, 0],\n",
       "       [0, 0, 0, 0, 1, 0, 0, 0, 0, 0, 0, 0, 0, 0, 0],\n",
       "       [0, 0, 0, 0, 0, 0, 1, 0, 0, 0, 0, 0, 0, 0, 0],\n",
       "       [0, 0, 0, 0, 0, 0, 0, 0, 0, 0, 0, 0, 0, 0, 0],\n",
       "       [0, 0, 0, 0, 1, 0, 0, 0, 0, 0, 0, 0, 0, 0, 0],\n",
       "       [0, 0, 0, 0, 0, 0, 0, 0, 0, 0, 0, 0, 0, 0, 0],\n",
       "       [0, 0, 0, 0, 0, 0, 0, 0, 0, 0, 0, 0, 0, 0, 0],\n",
       "       [0, 0, 0, 0, 0, 0, 0, 1, 0, 0, 0, 0, 0, 0, 0],\n",
       "       [0, 0, 0, 0, 0, 0, 0, 0, 0, 0, 1, 0, 0, 0, 0],\n",
       "       [0, 0, 0, 0, 0, 0, 0, 0, 0, 0, 0, 0, 0, 0, 0],\n",
       "       [0, 0, 0, 0, 0, 0, 0, 0, 0, 0, 0, 0, 0, 0, 1],\n",
       "       [0, 0, 0, 0, 0, 0, 0, 0, 0, 0, 0, 0, 0, 1, 0],\n",
       "       [0, 0, 0, 0, 0, 0, 0, 0, 0, 0, 0, 0, 0, 0, 0],\n",
       "       [0, 0, 0, 0, 0, 0, 0, 0, 0, 0, 0, 0, 0, 0, 0]], dtype=int64)"
      ]
     },
     "execution_count": 8,
     "metadata": {},
     "output_type": "execute_result"
    }
   ],
   "source": [
    "# Display the confusion matrix\n",
    "confusion_matrix(y_test, y_prediction)"
   ]
  },
  {
   "cell_type": "code",
   "execution_count": 9,
   "id": "2b4f3297",
   "metadata": {},
   "outputs": [
    {
     "name": "stdout",
     "output_type": "stream",
     "text": [
      "                   pre       rec       spe        f1       geo       iba       sup\n",
      "\n",
      "       1540       0.00      0.00      1.00      0.00      0.00      0.00       1.0\n",
      "       1659       0.00      0.00      0.88      0.00      0.00      0.00       0.0\n",
      "       2085       0.00      0.00      1.00      0.00      0.00      0.00       1.0\n",
      "       2287       0.00      0.00      1.00      0.00      0.00      0.00       1.0\n",
      "       2524       0.00      0.00      0.75      0.00      0.00      0.00       0.0\n",
      "       2725       0.00      0.00      1.00      0.00      0.00      0.00       1.0\n",
      "       3133       0.00      0.00      0.88      0.00      0.00      0.00       0.0\n",
      "       3308       0.00      0.00      0.88      0.00      0.00      0.00       0.0\n",
      "       3698       0.00      0.00      1.00      0.00      0.00      0.00       1.0\n",
      "       4093       0.00      0.00      1.00      0.00      0.00      0.00       1.0\n",
      "       4293       0.00      0.00      0.88      0.00      0.00      0.00       0.0\n",
      "       5238       0.00      0.00      1.00      0.00      0.00      0.00       1.0\n",
      "       5464       0.00      0.00      1.00      0.00      0.00      0.00       1.0\n",
      "       6795       0.00      0.00      0.88      0.00      0.00      0.00       0.0\n",
      "       7994       0.00      0.00      0.88      0.00      0.00      0.00       0.0\n",
      "\n",
      "avg / total       0.00      0.00      1.00      0.00      0.00      0.00       8.0\n",
      "\n"
     ]
    },
    {
     "name": "stderr",
     "output_type": "stream",
     "text": [
      "C:\\Users\\jorda\\anaconda3\\envs\\mlenv\\lib\\site-packages\\sklearn\\metrics\\_classification.py:1245: UndefinedMetricWarning: Precision and F-score are ill-defined and being set to 0.0 in labels with no predicted samples. Use `zero_division` parameter to control this behavior.\n",
      "  _warn_prf(average, modifier, msg_start, len(result))\n",
      "C:\\Users\\jorda\\anaconda3\\envs\\mlenv\\lib\\site-packages\\sklearn\\metrics\\_classification.py:1245: UndefinedMetricWarning: Recall and F-score are ill-defined and being set to 0.0 in labels with no true samples. Use `zero_division` parameter to control this behavior.\n",
      "  _warn_prf(average, modifier, msg_start, len(result))\n",
      "C:\\Users\\jorda\\anaconda3\\envs\\mlenv\\lib\\site-packages\\sklearn\\metrics\\_classification.py:1245: UndefinedMetricWarning: Sensitivity is ill-defined and being set to 0.0 in labels with no true samples. Use `zero_division` parameter to control this behavior.\n",
      "  _warn_prf(average, modifier, msg_start, len(result))\n"
     ]
    }
   ],
   "source": [
    "# Print the imbalanced classification report\n",
    "print(classification_report_imbalanced(y_test, y_prediction))"
   ]
  },
  {
   "cell_type": "code",
   "execution_count": 10,
   "id": "c63ee5c6",
   "metadata": {},
   "outputs": [
    {
     "name": "stdout",
     "output_type": "stream",
     "text": [
      "Unnamed: 0: (0.2103969495872969)\n",
      "2016: (0.20528639766624182)\n",
      "2015: (0.19655405326475917)\n",
      "2014: (0.19562091518798108)\n",
      "2017: (0.1921416842937209)\n"
     ]
    }
   ],
   "source": [
    "# List the features sorted in descending order by feature importance\n",
    "features = rand_for_class.feature_importances_\n",
    "sort_features = np.argsort(features)[::-1]\n",
    "\n",
    "for i in sort_features:\n",
    "    print(\"{}: ({})\".format(X.columns.values[i], features[i]))"
   ]
  },
  {
   "cell_type": "markdown",
   "id": "f27bfddc",
   "metadata": {},
   "source": [
    "# Easy Ensemble AdaBoost Classifier"
   ]
  },
  {
   "cell_type": "code",
   "execution_count": 11,
   "id": "b3ba6258",
   "metadata": {},
   "outputs": [
    {
     "name": "stderr",
     "output_type": "stream",
     "text": [
      "C:\\Users\\jorda\\anaconda3\\envs\\mlenv\\lib\\site-packages\\sklearn\\utils\\validation.py:63: DataConversionWarning: A column-vector y was passed when a 1d array was expected. Please change the shape of y to (n_samples, ), for example using ravel().\n",
      "  return f(*args, **kwargs)\n"
     ]
    },
    {
     "data": {
      "text/plain": [
       "EasyEnsembleClassifier(n_estimators=100, random_state=1)"
      ]
     },
     "execution_count": 11,
     "metadata": {},
     "output_type": "execute_result"
    }
   ],
   "source": [
    "# Train the EasyEnsembleClassifier\n",
    "from imblearn.ensemble import EasyEnsembleClassifier\n",
    "easy_ens_class = EasyEnsembleClassifier(n_estimators = 100, random_state = 1)\n",
    "easy_ens_class.fit(X_train, y_train)"
   ]
  },
  {
   "cell_type": "code",
   "execution_count": 12,
   "id": "7ac8c4bd",
   "metadata": {},
   "outputs": [
    {
     "name": "stderr",
     "output_type": "stream",
     "text": [
      "C:\\Users\\jorda\\anaconda3\\envs\\mlenv\\lib\\site-packages\\sklearn\\metrics\\_classification.py:1850: UserWarning: y_pred contains classes not in y_true\n",
      "  warnings.warn('y_pred contains classes not in y_true')\n"
     ]
    },
    {
     "data": {
      "text/plain": [
       "0.0"
      ]
     },
     "execution_count": 12,
     "metadata": {},
     "output_type": "execute_result"
    }
   ],
   "source": [
    "# Calculated the balanced accuracy score\n",
    "y_prediction = easy_ens_class.predict(X_test)\n",
    "balanced_accuracy_score(y_test, y_prediction)"
   ]
  },
  {
   "cell_type": "code",
   "execution_count": 13,
   "id": "f706fb0b",
   "metadata": {},
   "outputs": [
    {
     "data": {
      "text/plain": [
       "array([[0, 1, 0, 0, 0, 0, 0, 0, 0, 0, 0, 0, 0, 0],\n",
       "       [0, 0, 0, 0, 0, 0, 0, 0, 0, 0, 0, 0, 0, 0],\n",
       "       [0, 0, 0, 0, 1, 0, 0, 0, 0, 0, 0, 0, 0, 0],\n",
       "       [0, 0, 0, 0, 0, 0, 1, 0, 0, 0, 0, 0, 0, 0],\n",
       "       [0, 0, 0, 0, 0, 0, 0, 0, 0, 0, 0, 0, 0, 0],\n",
       "       [0, 0, 0, 0, 0, 0, 1, 0, 0, 0, 0, 0, 0, 0],\n",
       "       [0, 0, 0, 0, 0, 0, 0, 0, 0, 0, 0, 0, 0, 0],\n",
       "       [0, 0, 0, 0, 0, 0, 0, 0, 0, 1, 0, 0, 0, 0],\n",
       "       [0, 0, 0, 0, 0, 0, 0, 0, 0, 1, 0, 0, 0, 0],\n",
       "       [0, 0, 0, 0, 0, 0, 0, 0, 0, 0, 0, 0, 0, 0],\n",
       "       [0, 0, 0, 0, 0, 0, 0, 0, 0, 0, 0, 0, 0, 0],\n",
       "       [0, 0, 0, 0, 0, 0, 0, 0, 0, 0, 1, 0, 0, 0],\n",
       "       [0, 0, 0, 0, 0, 0, 0, 0, 0, 0, 0, 0, 0, 1],\n",
       "       [0, 0, 0, 0, 0, 0, 0, 0, 0, 0, 0, 0, 0, 0]], dtype=int64)"
      ]
     },
     "execution_count": 13,
     "metadata": {},
     "output_type": "execute_result"
    }
   ],
   "source": [
    "# Display the confusion matrix\n",
    "confusion_matrix(y_test, y_prediction)"
   ]
  },
  {
   "cell_type": "code",
   "execution_count": 14,
   "id": "ca9ba92b",
   "metadata": {},
   "outputs": [
    {
     "name": "stdout",
     "output_type": "stream",
     "text": [
      "                   pre       rec       spe        f1       geo       iba       sup\n",
      "\n",
      "       1540       0.00      0.00      1.00      0.00      0.00      0.00       1.0\n",
      "       1659       0.00      0.00      0.88      0.00      0.00      0.00       0.0\n",
      "       2085       0.00      0.00      1.00      0.00      0.00      0.00       1.0\n",
      "       2287       0.00      0.00      1.00      0.00      0.00      0.00       1.0\n",
      "       2524       0.00      0.00      0.88      0.00      0.00      0.00       0.0\n",
      "       2725       0.00      0.00      1.00      0.00      0.00      0.00       1.0\n",
      "       3133       0.00      0.00      0.75      0.00      0.00      0.00       0.0\n",
      "       3698       0.00      0.00      1.00      0.00      0.00      0.00       1.0\n",
      "       4093       0.00      0.00      1.00      0.00      0.00      0.00       1.0\n",
      "       4293       0.00      0.00      0.75      0.00      0.00      0.00       0.0\n",
      "       4583       0.00      0.00      0.88      0.00      0.00      0.00       0.0\n",
      "       5238       0.00      0.00      1.00      0.00      0.00      0.00       1.0\n",
      "       5464       0.00      0.00      1.00      0.00      0.00      0.00       1.0\n",
      "       6795       0.00      0.00      0.88      0.00      0.00      0.00       0.0\n",
      "\n",
      "avg / total       0.00      0.00      1.00      0.00      0.00      0.00       8.0\n",
      "\n"
     ]
    },
    {
     "name": "stderr",
     "output_type": "stream",
     "text": [
      "C:\\Users\\jorda\\anaconda3\\envs\\mlenv\\lib\\site-packages\\sklearn\\metrics\\_classification.py:1245: UndefinedMetricWarning: Precision and F-score are ill-defined and being set to 0.0 in labels with no predicted samples. Use `zero_division` parameter to control this behavior.\n",
      "  _warn_prf(average, modifier, msg_start, len(result))\n",
      "C:\\Users\\jorda\\anaconda3\\envs\\mlenv\\lib\\site-packages\\sklearn\\metrics\\_classification.py:1245: UndefinedMetricWarning: Recall and F-score are ill-defined and being set to 0.0 in labels with no true samples. Use `zero_division` parameter to control this behavior.\n",
      "  _warn_prf(average, modifier, msg_start, len(result))\n",
      "C:\\Users\\jorda\\anaconda3\\envs\\mlenv\\lib\\site-packages\\sklearn\\metrics\\_classification.py:1245: UndefinedMetricWarning: Sensitivity is ill-defined and being set to 0.0 in labels with no true samples. Use `zero_division` parameter to control this behavior.\n",
      "  _warn_prf(average, modifier, msg_start, len(result))\n"
     ]
    }
   ],
   "source": [
    "# Print the imbalanced classification report\n",
    "print(classification_report_imbalanced(y_test, y_prediction))"
   ]
  }
 ],
 "metadata": {
  "kernelspec": {
   "display_name": "mlenv",
   "language": "python",
   "name": "mlenv"
  },
  "language_info": {
   "codemirror_mode": {
    "name": "ipython",
    "version": 3
   },
   "file_extension": ".py",
   "mimetype": "text/x-python",
   "name": "python",
   "nbconvert_exporter": "python",
   "pygments_lexer": "ipython3",
   "version": "3.7.10"
  }
 },
 "nbformat": 4,
 "nbformat_minor": 5
}
