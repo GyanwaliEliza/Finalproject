{
 "cells": [
  {
   "cell_type": "code",
   "execution_count": 1,
   "id": "51204919",
   "metadata": {},
   "outputs": [],
   "source": [
    "# Import Dependencies\n",
    "import numpy as np\n",
    "import pandas as pd\n",
    "from pathlib import Path\n",
    "from collections import Counter\n",
    "from sklearn.metrics import balanced_accuracy_score\n",
    "from sklearn.metrics import confusion_matrix\n",
    "from imblearn.metrics import classification_report_imbalanced"
   ]
  },
  {
   "cell_type": "markdown",
   "id": "ddf35373",
   "metadata": {},
   "source": [
    "# Read the Provisional CSV"
   ]
  },
  {
   "cell_type": "code",
   "execution_count": 2,
   "id": "724b1137",
   "metadata": {
    "scrolled": true
   },
   "outputs": [
    {
     "data": {
      "text/html": [
       "<div>\n",
       "<style scoped>\n",
       "    .dataframe tbody tr th:only-of-type {\n",
       "        vertical-align: middle;\n",
       "    }\n",
       "\n",
       "    .dataframe tbody tr th {\n",
       "        vertical-align: top;\n",
       "    }\n",
       "\n",
       "    .dataframe thead th {\n",
       "        text-align: right;\n",
       "    }\n",
       "</style>\n",
       "<table border=\"1\" class=\"dataframe\">\n",
       "  <thead>\n",
       "    <tr style=\"text-align: right;\">\n",
       "      <th></th>\n",
       "      <th>SR Description</th>\n",
       "      <th>Department</th>\n",
       "      <th>Method Received</th>\n",
       "      <th>SR Status</th>\n",
       "      <th>Zip Code</th>\n",
       "      <th>Council District</th>\n",
       "      <th>City</th>\n",
       "      <th>County</th>\n",
       "      <th>Request Year</th>\n",
       "      <th>Total Seconds</th>\n",
       "    </tr>\n",
       "  </thead>\n",
       "  <tbody>\n",
       "    <tr>\n",
       "      <th>0</th>\n",
       "      <td>Animal Control - Assistance Request</td>\n",
       "      <td>Animal Services</td>\n",
       "      <td>Phone</td>\n",
       "      <td>Closed</td>\n",
       "      <td>78745.0</td>\n",
       "      <td>5.0</td>\n",
       "      <td>AUSTIN</td>\n",
       "      <td>TRAVIS</td>\n",
       "      <td>2016</td>\n",
       "      <td>116467642</td>\n",
       "    </tr>\n",
       "    <tr>\n",
       "      <th>1</th>\n",
       "      <td>Animal Control - Assistance Request</td>\n",
       "      <td>Animal Services</td>\n",
       "      <td>Phone</td>\n",
       "      <td>Closed</td>\n",
       "      <td>78752.0</td>\n",
       "      <td>4.0</td>\n",
       "      <td>AUSTIN</td>\n",
       "      <td>TRAVIS</td>\n",
       "      <td>2016</td>\n",
       "      <td>113077920</td>\n",
       "    </tr>\n",
       "    <tr>\n",
       "      <th>2</th>\n",
       "      <td>Animal Control - Assistance Request</td>\n",
       "      <td>Animal Services</td>\n",
       "      <td>Phone</td>\n",
       "      <td>Closed</td>\n",
       "      <td>78745.0</td>\n",
       "      <td>5.0</td>\n",
       "      <td>AUSTIN</td>\n",
       "      <td>TRAVIS</td>\n",
       "      <td>2016</td>\n",
       "      <td>108941829</td>\n",
       "    </tr>\n",
       "    <tr>\n",
       "      <th>3</th>\n",
       "      <td>Austin Code - Request Code Officer</td>\n",
       "      <td>Austin Code</td>\n",
       "      <td>Phone</td>\n",
       "      <td>Closed</td>\n",
       "      <td>78745.0</td>\n",
       "      <td>5.0</td>\n",
       "      <td>Austin</td>\n",
       "      <td>TRAVIS</td>\n",
       "      <td>2018</td>\n",
       "      <td>644</td>\n",
       "    </tr>\n",
       "    <tr>\n",
       "      <th>4</th>\n",
       "      <td>Pavement Failure</td>\n",
       "      <td>Public Works</td>\n",
       "      <td>Phone</td>\n",
       "      <td>Closed</td>\n",
       "      <td>78704.0</td>\n",
       "      <td>5.0</td>\n",
       "      <td>AUSTIN</td>\n",
       "      <td>TRAVIS</td>\n",
       "      <td>2018</td>\n",
       "      <td>2524007</td>\n",
       "    </tr>\n",
       "  </tbody>\n",
       "</table>\n",
       "</div>"
      ],
      "text/plain": [
       "                        SR Description       Department Method Received  \\\n",
       "0  Animal Control - Assistance Request  Animal Services           Phone   \n",
       "1  Animal Control - Assistance Request  Animal Services           Phone   \n",
       "2  Animal Control - Assistance Request  Animal Services           Phone   \n",
       "3   Austin Code - Request Code Officer      Austin Code           Phone   \n",
       "4                     Pavement Failure     Public Works           Phone   \n",
       "\n",
       "  SR Status  Zip Code  Council District    City  County  Request Year  \\\n",
       "0    Closed   78745.0               5.0  AUSTIN  TRAVIS          2016   \n",
       "1    Closed   78752.0               4.0  AUSTIN  TRAVIS          2016   \n",
       "2    Closed   78745.0               5.0  AUSTIN  TRAVIS          2016   \n",
       "3    Closed   78745.0               5.0  Austin  TRAVIS          2018   \n",
       "4    Closed   78704.0               5.0  AUSTIN  TRAVIS          2018   \n",
       "\n",
       "   Total Seconds  \n",
       "0      116467642  \n",
       "1      113077920  \n",
       "2      108941829  \n",
       "3            644  \n",
       "4        2524007  "
      ]
     },
     "execution_count": 2,
     "metadata": {},
     "output_type": "execute_result"
    }
   ],
   "source": [
    "df = pd.read_csv(\"Training_1.csv\")\n",
    "\n",
    "# Drop the null columns where all values are null\n",
    "df = df.dropna(axis='columns', how='all')\n",
    "\n",
    "# Drop the null rows\n",
    "df = df.dropna()\n",
    "\n",
    "# Remove the first column\n",
    "df = df.iloc[: , 1:]\n",
    "\n",
    "# Remove the 'Duplicate' status\n",
    "status = df[\"SR Status\"] != \"Duplicate (closed)\" \n",
    "df = df.loc[status]\n",
    "\n",
    "# Remove the 'To Be Deleted' status\n",
    "status = df[\"SR Status\"] != \"TO BE DELETED\" \n",
    "df = df.loc[status]\n",
    "\n",
    "# Remove the 'Closed -Incomplete Information' status\n",
    "status = df[\"SR Status\"] != \"Closed -Incomplete Information\"\n",
    "df = df.loc[status]\n",
    "\n",
    "df[[\"Total Seconds\"]] = df[[\"Total Seconds\"]].fillna(0).astype(int)\n",
    "\n",
    "df = df.drop(columns = [\"Service Request (SR) Number\",\n",
    "                        \"Open Time\",\n",
    "                        \"Open Time delta\",\n",
    "                        \"Created Date\",\n",
    "                        \"Created Date DT\",\n",
    "                        \"Close Date\",\n",
    "                        \"Closed Date DT\",\n",
    "                        \"Status Change Date\",\n",
    "                        \"Last Update Date\",\n",
    "                        \"Map Page\",\n",
    "                  \"Map Tile\",\n",
    "                  \"State Plane X Coordinate\",\n",
    "                  \"State Plane Y Coordinate\",\n",
    "                  \"Latitude Coordinate\",\n",
    "                  \"Longitude Coordinate\",\n",
    "                  \"(Latitude.Longitude)\",\n",
    "                  \"SR Location\",\n",
    "                  \"Street Number\",\n",
    "                  \"Street Name\"])\n",
    "\n",
    "df.head()"
   ]
  },
  {
   "cell_type": "code",
   "execution_count": 3,
   "id": "94dbce20",
   "metadata": {},
   "outputs": [],
   "source": [
    "# df = df.head(1000)"
   ]
  },
  {
   "cell_type": "markdown",
   "id": "6418cb56",
   "metadata": {},
   "source": [
    "# Split the Data into Training and Testing"
   ]
  },
  {
   "cell_type": "code",
   "execution_count": 4,
   "id": "177484c1",
   "metadata": {},
   "outputs": [],
   "source": [
    "# Create our features\n",
    "X = df.drop(columns = [\"SR Status\"])\n",
    "\n",
    "# Create dummy variables\n",
    "X = pd.get_dummies(X)\n",
    "\n",
    "# Create our target\n",
    "y = df[[\"SR Status\"]]"
   ]
  },
  {
   "cell_type": "code",
   "execution_count": 5,
   "id": "840c5a90",
   "metadata": {},
   "outputs": [
    {
     "data": {
      "text/plain": [
       "Closed      448468\n",
       "Resolved       189\n",
       "Name: SR Status, dtype: int64"
      ]
     },
     "execution_count": 5,
     "metadata": {},
     "output_type": "execute_result"
    }
   ],
   "source": [
    "# Check the balance of our target values\n",
    "y[\"SR Status\"].value_counts()"
   ]
  },
  {
   "cell_type": "code",
   "execution_count": 6,
   "id": "0c31a0ab",
   "metadata": {},
   "outputs": [],
   "source": [
    "from sklearn.model_selection import train_test_split\n",
    "X_train, X_test, y_train, y_test = train_test_split(X, y, random_state = 1)"
   ]
  },
  {
   "cell_type": "markdown",
   "id": "5326770a",
   "metadata": {},
   "source": [
    "# Balanced Random Forest Classifier"
   ]
  },
  {
   "cell_type": "code",
   "execution_count": 7,
   "id": "a08cca0d",
   "metadata": {},
   "outputs": [
    {
     "data": {
      "text/plain": [
       "BalancedRandomForestClassifier(random_state=1)"
      ]
     },
     "execution_count": 7,
     "metadata": {},
     "output_type": "execute_result"
    }
   ],
   "source": [
    "# Resample the training data with the BalancedRandomForestClassifier\n",
    "from imblearn.ensemble import BalancedRandomForestClassifier\n",
    "rand_for_class = BalancedRandomForestClassifier(n_estimators = 100, random_state = 1)\n",
    "rand_for_class.fit(X_train, y_train.values.ravel())"
   ]
  },
  {
   "cell_type": "code",
   "execution_count": 8,
   "id": "406ced5a",
   "metadata": {},
   "outputs": [
    {
     "data": {
      "text/plain": [
       "0.9283570283507857"
      ]
     },
     "execution_count": 8,
     "metadata": {},
     "output_type": "execute_result"
    }
   ],
   "source": [
    "# Calculated the balanced accuracy score\n",
    "y_prediction = rand_for_class.predict(X_test)\n",
    "balanced_accuracy_score(y_test, y_prediction)"
   ]
  },
  {
   "cell_type": "code",
   "execution_count": 9,
   "id": "1ac39ffe",
   "metadata": {},
   "outputs": [
    {
     "data": {
      "text/plain": [
       "array([[99463, 12669],\n",
       "       [    1,    32]], dtype=int64)"
      ]
     },
     "execution_count": 9,
     "metadata": {},
     "output_type": "execute_result"
    }
   ],
   "source": [
    "# Display the confusion matrix\n",
    "confusion_matrix(y_test, y_prediction)"
   ]
  },
  {
   "cell_type": "code",
   "execution_count": 10,
   "id": "2b4f3297",
   "metadata": {},
   "outputs": [
    {
     "name": "stdout",
     "output_type": "stream",
     "text": [
      "                   pre       rec       spe        f1       geo       iba       sup\n",
      "\n",
      "     Closed       1.00      0.89      0.97      0.94      0.93      0.85    112132\n",
      "   Resolved       0.00      0.97      0.89      0.01      0.93      0.87        33\n",
      "\n",
      "avg / total       1.00      0.89      0.97      0.94      0.93      0.85    112165\n",
      "\n"
     ]
    }
   ],
   "source": [
    "# Print the imbalanced classification report\n",
    "print(classification_report_imbalanced(y_test, y_prediction))"
   ]
  },
  {
   "cell_type": "code",
   "execution_count": 11,
   "id": "c63ee5c6",
   "metadata": {},
   "outputs": [
    {
     "name": "stdout",
     "output_type": "stream",
     "text": [
      "Total Seconds: (0.12868903048548114)\n",
      "Request Year: (0.09042017397589495)\n",
      "Department_Watershed Check: (0.08021017902295999)\n",
      "Department_Austin Code: (0.05711244990053812)\n",
      "Zip Code: (0.053008123194248656)\n",
      "Council District: (0.04395046031247003)\n",
      "Department_Animal Services: (0.042754973068431956)\n",
      "SR Description_Austin Code - Request Code Officer: (0.04117616017023353)\n",
      "Department_Austin Transportation: (0.03456756717720176)\n",
      "Department_Public Works: (0.03108442342067603)\n",
      "SR Description_Debris in Street: (0.025260382094339638)\n",
      "SR Description_Sign - Traffic Sign Maintenance: (0.021196407897104183)\n",
      "Department_Austin Resource Recovery: (0.019451156495279606)\n",
      "SR Description_Pothole Repair: (0.018951202096911483)\n",
      "City_AUSTIN: (0.015562999345519593)\n",
      "SR Description_Pavement Failure: (0.015093976404686791)\n",
      "SR Description_Drainage - Miscellaneous: (0.01475109596410118)\n",
      "Method Received_Spot311 Interface: (0.014534549238385154)\n",
      "City_Austin: (0.014174879784872873)\n",
      "SR Description_Street Light Issue- Address: (0.013964719431207837)\n",
      "SR Description_Channels/Creeks/Drainage Easement: (0.013927782817486554)\n",
      "Method Received_Phone: (0.012416528748873027)\n",
      "SR Description_ARR Missed Recycling: (0.012292535229539048)\n",
      "SR Description_Tree Issue ROW/Maintenance (PW): (0.012109805634493043)\n",
      "SR Description_Obstruction in ROW: (0.010854277085089155)\n",
      "SR Description_Loose Dog: (0.008488527451955379)\n",
      "SR Description_ARR Dead Animal Collection: (0.008312879940321741)\n",
      "SR Description_Standing Water: (0.008302995285812773)\n",
      "Department_Parks and Recreation: (0.007359856698553178)\n",
      "Department_Public Health: (0.007181732897222304)\n",
      "SR Description_Creek & Pond Vegetation Control: (0.006221721190470986)\n",
      "Department_Austin Water: (0.005797080440028933)\n",
      "SR Description_Ditch/Driveway Pipe Services: (0.005445717736411133)\n",
      "SR Description_Animal Control - Assistance Request: (0.005391017260131386)\n",
      "Method Received_Web: (0.005386399556623166)\n",
      "SR Description_Sign - Traffic Sign Emergency: (0.005164339685930433)\n",
      "SR Description_Sign - Parking Sign Maintenance: (0.004582181432732623)\n",
      "SR Description_Sidewalk Repair: (0.0045668541877458)\n",
      "SR Description_ARR Missed Yard Trimmings/Compost: (0.004259704314062595)\n",
      "SR Description_Alley & Unpaved Street Maintenance: (0.004004065666518171)\n",
      "SR Description_Injured / Sick Animal: (0.003991998880762166)\n",
      "SR Description_Tree Issue ROW/Emergency (PW): (0.0037867949261686236)\n",
      "SR Description_ARR Missed Yard Trimmings /Organics: (0.0035228436450133976)\n",
      "SR Description_Water Waste Report: (0.003155984400190755)\n",
      "SR Description_Roadway Spillage: (0.0027407562089361726)\n",
      "SR Description_ARR Brush and Bulk: (0.002704318274651563)\n",
      "SR Description_Tree Issue ROW: (0.0025573027583686517)\n",
      "SR Description_Loud Commercial Music: (0.0023363375533302644)\n",
      "SR Description_Traffic Signal - Dig Tess Request: (0.0022353313996100284)\n",
      "SR Description_Flooding - Past: (0.0022273068811403877)\n",
      "SR Description_Sign - Street Name: (0.0019953050475288244)\n",
      "SR Description_Park Maintenance - Grounds: (0.001993217394935038)\n",
      "SR Description_Mowing Medians: (0.001887239788374665)\n",
      "SR Description_Sign - New: (0.001810115834033398)\n",
      "SR Description_Animal - Proper Care: (0.0016931304134377605)\n",
      "SR Description_Public Health - Graffiti Abatement: (0.0016850525233834512)\n",
      "County_WILLIAMSON: (0.0014513378290052338)\n",
      "SR Description_Concerns in the ROW: (0.0014065952978035401)\n",
      "SR Description_Traffic Signal - Maintenance: (0.0013507459486746946)\n",
      "SR Description_Code Compliance: (0.0013042161350152984)\n",
      "SR Description_Construction items in ROW: (0.0012550137492500079)\n",
      "County_TRAVIS: (0.0010533901739292425)\n",
      "SR Description_Graffiti Abatement: (0.0010453428931225426)\n",
      "SR Description_Guardrail New/Repair: (0.0010413393312922452)\n",
      "SR Description_Bicycle Issues: (0.0010055863631465724)\n",
      "SR Description_Lost Item in Storm Drainage System: (0.0009755453847346373)\n",
      "SR Description_Animal Bite: (0.0009232881825822904)\n",
      "SR Description_Curb/Gutter Repair: (0.0009196689329542437)\n",
      "SR Description_Parking Machine Issue: (0.000911485914100918)\n",
      "SR Description_Lane/Road Closure Notification: (0.0008417188925548478)\n",
      "SR Description_Aquatics Hotline Inquiry: (0.0008129294395147964)\n",
      "SR Description_Flooding  Current (Non-Emergency): (0.0007601370760899698)\n",
      "SR Description_Public Health - Environmental Services - City: (0.000697269645790768)\n",
      "SR Description_Wildlife Exposure: (0.0006327576931824602)\n",
      "SR Description_Traffic Calming: (0.0006053815151439062)\n",
      "SR Description_Park Maintenance - Grounds Electrical Issues: (0.0005793709244721422)\n",
      "SR Description_Austin Code - Short Term Rental Complaint SR: (0.0005616574972921693)\n",
      "SR Description_Dangerous/Vicious Dog Investigation: (0.0005524686639063872)\n",
      "SR Description_Parking Violation Enforcement: (0.0005267411238518581)\n",
      "SR Description_Found Animal - Pick Up: (0.0004742332737560614)\n",
      "SR Description_Found Animal Report - Keep: (0.0004704299513127274)\n",
      "SR Description_ARR Street Sweeping: (0.00046586073474947027)\n",
      "Method Received_Mass Entry: (0.0004652690301584817)\n",
      "SR Description_Street Lights New: (0.00044964565113262756)\n",
      "SR Description_Dockless Mobility: (0.00043389260315446676)\n",
      "SR Description_Road Markings/Striping - Maintenance: (0.0004285975791111639)\n",
      "SR Description_Traffic Signal - New/Change: (0.00042371791233027133)\n",
      "SR Description_Construction Items- ROW: (0.0004226070639960458)\n",
      "Method Received_Open311: (0.0004166842442572239)\n",
      "SR Description_Street Resurfacing: (0.0003858782002841451)\n",
      "SR Description_Park Maintenance - Pool Issues: (0.0003784885498264373)\n",
      "SR Description_Park Maintenance - Grounds Plumbing Issues: (0.0003671040573716777)\n",
      "SR Description_AW - Water Waste Report: (0.00031962183229014806)\n",
      "SR Description_Bridge Repair: (0.00031050871719634894)\n",
      "SR Description_Neighborhood Home Programs: (0.0002949519448416691)\n",
      "City_DEL VALLE: (0.00023729762213284654)\n",
      "SR Description_View Obstruction at Intersection: (0.00023595337118773697)\n",
      "SR Description_Tree Issue ROW/Maintenance (PARD): (0.00021498734229970944)\n",
      "SR Description_Road Markings/Striping - New: (0.0002129402786453196)\n",
      "Method Received_External Interface: (0.00020771205493166412)\n",
      "SR Description_Traffic Engineering - General: (0.0002007415121287518)\n",
      "SR Description_Austin Code - Signs/Billboards: (0.00019432653444628303)\n",
      "SR Description_Park Maintenance - Building Issues: (0.00018953431239281975)\n",
      "SR Description_Coyote Complaints: (0.0001715838776431213)\n",
      "SR Description_Sidewalk/Curb Ramp/Route - NEW: (0.00016935894201124485)\n",
      "SR Description_Bat Complaint: (0.00015887031262539958)\n",
      "SR Description_Austin Code - Construction Rest Break Complaint: (0.0001570951856717983)\n",
      "SR Description_Guardrail Repair: (0.00015566577809952205)\n",
      "SR Description_Loud Music: (0.00015367956344356176)\n",
      "Method Received_CSR - Follow On SR: (0.00014596212890543827)\n",
      "SR Description_School Zone - New/Review/Changes: (0.00012605684894216265)\n",
      "SR Description_Flood Report: (0.00012295434352698408)\n",
      "SR Description_Ordinance Universal Recycling: (0.00011610576857754594)\n",
      "SR Description_Mowing City Parks: (0.00011074047127488666)\n",
      "SR Description_Construction/Permitting- ROW: (9.162364925321766e-05)\n",
      "SR Description_Animal In Vehicle: (8.980121285053714e-05)\n",
      "Method Received_Field Request: (7.958918486680941e-05)\n",
      "SR Description_Park Maintenance - Building Plumbing Issues: (7.492610156317163e-05)\n",
      "SR Description_School Zone Flasher - Timing/Maintenance: (5.752551457006982e-05)\n",
      "SR Description_Storm Drain Pipe Services: (5.701988688590189e-05)\n",
      "Department_Housing and Planning: (4.94291559408694e-05)\n",
      "SR Description_EV PIE Station Issues: (4.564653881504897e-05)\n",
      "SR Description_Street Resurfacing Inquiry: (3.0030141062473563e-05)\n",
      "City_Cedar Park: (2.9927241711266094e-05)\n",
      "SR Description_Tree Issue ROW/Emergency (PARD): (2.8039020970850887e-05)\n",
      "Method Received_E-Mail: (2.0889037433155004e-05)\n",
      "Department_Austin Fire: (1.671695121584652e-05)\n",
      "SR Description_Code Compliance - Signs/Billboards: (1.1449535402073753e-05)\n",
      "SR Description_Loose Animal Not Dog: (4.30946727140246e-06)\n",
      "SR Description_Austin Code - Short Term Rental (STR) Appointment: (2.9231352452465453e-06)\n",
      "SR Description_Austin Code - Construction Ordinance SR: (2.143887858173536e-06)\n",
      "SR Description_Animal Trapped in Storm Drain: (8.547008547008317e-07)\n",
      "SR Description_School Issues - Crossing Guards: (1.6076375148408348e-07)\n",
      "SR Description_Barricade Request: (0.0)\n",
      "SR Description_Austin Code - Woodridge Apt: (0.0)\n",
      "City_ROLLINGWOOD: (0.0)\n",
      "City_TRAVIS: (0.0)\n",
      "SR Description_zCoyote Complaints: (0.0)\n",
      "SR Description_Basic Needs - Appointment: (0.0)\n",
      "SR Description_Basic Needs - Information Referral: (0.0)\n",
      "City_WEST LAKE HILLS: (0.0)\n",
      "City_PFLUGERVILLE: (0.0)\n",
      "Method Received_Radio: (0.0)\n",
      "SR Description_Road Sanding Request: (0.0)\n",
      "SR Description_ARR Dumpster: (0.0)\n",
      "City_Del Valle: (0.0)\n",
      "SR Description_Water Theft Report: (0.0)\n",
      "SR Description_Animal Roadside Sales: (0.0)\n",
      "SR Description_Residential Parking Permit Enforcement: (0.0)\n",
      "SR Description_AFD - Wildfire Concern / Presentation: (0.0)\n",
      "Method Received_Social Media: (0.0)\n",
      "SR Description_Street Light Issue- Multiple poles/multiple streets: (0.0)\n",
      "Method Received_Walk In: (0.0)\n",
      "City_CEDAR PARK: (0.0)\n",
      "SR Description_Public Health - Environmental Services - County: (0.0)\n",
      "SR Description_ATD - Booting Complaint: (0.0)\n",
      "City_SUNSET VALLEY: (0.0)\n",
      "SR Description_Park Maintenance - Building A/C & Heating Issues: (0.0)\n",
      "SR Description_zz - Coyote Compliants: (0.0)\n",
      "SR Description_Flooding - Storms After Business Hours: (0.0)\n",
      "SR Description_Ordinance Single-Use Carryout Bags: (0.0)\n",
      "SR Description_Obstruction - Urban Forestry: (0.0)\n",
      "SR Description_Newspaper Rack- ROW: (0.0)\n",
      "SR Description_Park Maintenance - Building Electrical Issues: (0.0)\n",
      "SR Description_Short Term Rental Complaint SR: (0.0)\n",
      "SR Description_Loose Animal (not dog): (0.0)\n",
      "SR Description_LeadSmart Program: (0.0)\n",
      "SR Description_Heat Advisory: (0.0)\n",
      "SR Description_Guardrail - New: (0.0)\n",
      "SR Description_Vendor Permit - ROW: (0.0)\n",
      "SR Description_Valet Permit - ROW: (0.0)\n",
      "SR Description_Sign - School Zone Sign Maintenance: (0.0)\n",
      "SR Description_Flooding Current (Non-Emergency): (0.0)\n",
      "SR Description_Flooding - Storms During Business Hours: (0.0)\n",
      "Method Received_Interface: (0.0)\n",
      "Method Received_Other: (0.0)\n",
      "SR Description_Utility Coordination - ROW: (0.0)\n",
      "SR Description_Filming Permit - ROW: (0.0)\n",
      "SR Description_Fence/Wall Repair: (0.0)\n",
      "SR Description_Fence Repair - MOPAC: (0.0)\n",
      "SR Description_Emergency Road Closure Report: (0.0)\n",
      "SR Description_Park Maintenance - Cemeteries: (0.0)\n",
      "Method Received_Mail: (0.0)\n",
      "Method Received_Mobile Created: (0.0)\n",
      "SR Description_Dangerous Animal - Except Dogs: (0.0)\n",
      "SR Description_Parking Permit- ROW: (0.0)\n",
      "SR Description_Speed Limit - Changes/Signs: (0.0)\n",
      "SR Description_Construction Ordinance SR: (0.0)\n",
      "SR Description_Parking Ticket Complaint: (0.0)\n",
      "SR Description_Code Compliance - Short Term Rental (STR) Appointment: (0.0)\n",
      "SR Description_EV PIP Residential Rebate: (0.0)\n"
     ]
    }
   ],
   "source": [
    "# List the features sorted in descending order by feature importance\n",
    "features = rand_for_class.feature_importances_\n",
    "sort_features = np.argsort(features)[::-1]\n",
    "\n",
    "for i in sort_features:\n",
    "    print(\"{}: ({})\".format(X.columns.values[i], features[i]))"
   ]
  },
  {
   "cell_type": "markdown",
   "id": "f27bfddc",
   "metadata": {},
   "source": [
    "# Easy Ensemble AdaBoost Classifier"
   ]
  },
  {
   "cell_type": "code",
   "execution_count": 12,
   "id": "b3ba6258",
   "metadata": {},
   "outputs": [
    {
     "data": {
      "text/plain": [
       "EasyEnsembleClassifier(n_estimators=100, random_state=1)"
      ]
     },
     "execution_count": 12,
     "metadata": {},
     "output_type": "execute_result"
    }
   ],
   "source": [
    "# Train the EasyEnsembleClassifier\n",
    "from imblearn.ensemble import EasyEnsembleClassifier\n",
    "easy_ens_class = EasyEnsembleClassifier(n_estimators = 100, random_state = 1)\n",
    "easy_ens_class.fit(X_train, y_train.values.ravel())"
   ]
  },
  {
   "cell_type": "code",
   "execution_count": 13,
   "id": "7ac8c4bd",
   "metadata": {},
   "outputs": [
    {
     "data": {
      "text/plain": [
       "0.942911033424892"
      ]
     },
     "execution_count": 13,
     "metadata": {},
     "output_type": "execute_result"
    }
   ],
   "source": [
    "# Calculated the balanced accuracy score\n",
    "y_prediction = easy_ens_class.predict(X_test)\n",
    "balanced_accuracy_score(y_test, y_prediction)"
   ]
  },
  {
   "cell_type": "code",
   "execution_count": 14,
   "id": "f706fb0b",
   "metadata": {},
   "outputs": [
    {
     "data": {
      "text/plain": [
       "array([[99329, 12803],\n",
       "       [    0,    33]], dtype=int64)"
      ]
     },
     "execution_count": 14,
     "metadata": {},
     "output_type": "execute_result"
    }
   ],
   "source": [
    "# Display the confusion matrix\n",
    "confusion_matrix(y_test, y_prediction)"
   ]
  },
  {
   "cell_type": "code",
   "execution_count": 15,
   "id": "ca9ba92b",
   "metadata": {},
   "outputs": [
    {
     "name": "stdout",
     "output_type": "stream",
     "text": [
      "                   pre       rec       spe        f1       geo       iba       sup\n",
      "\n",
      "     Closed       1.00      0.89      1.00      0.94      0.94      0.88    112132\n",
      "   Resolved       0.00      1.00      0.89      0.01      0.94      0.90        33\n",
      "\n",
      "avg / total       1.00      0.89      1.00      0.94      0.94      0.88    112165\n",
      "\n"
     ]
    }
   ],
   "source": [
    "# Print the imbalanced classification report\n",
    "print(classification_report_imbalanced(y_test, y_prediction))"
   ]
  }
 ],
 "metadata": {
  "kernelspec": {
   "display_name": "mlenv",
   "language": "python",
   "name": "mlenv"
  },
  "language_info": {
   "codemirror_mode": {
    "name": "ipython",
    "version": 3
   },
   "file_extension": ".py",
   "mimetype": "text/x-python",
   "name": "python",
   "nbconvert_exporter": "python",
   "pygments_lexer": "ipython3",
   "version": "3.7.10"
  }
 },
 "nbformat": 4,
 "nbformat_minor": 5
}
